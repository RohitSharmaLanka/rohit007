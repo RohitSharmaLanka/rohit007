{
 "cells": [
  {
   "cell_type": "markdown",
   "metadata": {},
   "source": [
    "<center>\n",
    "    <img src=\"https://cf-courses-data.s3.us.cloud-object-storage.appdomain.cloud/IBMDeveloperSkillsNetwork-DS0105EN-SkillsNetwork/labs/Module2/images/SN_web_lightmode.png\" width=\"300\" alt=\"cognitiveclass.ai logo\">\n",
    "</center>\n"
   ]
  },
  {
   "cell_type": "markdown",
   "metadata": {},
   "source": [
    "#### Add your code below following the instructions given in the course\n"
   ]
  },
  {
   "cell_type": "code",
   "execution_count": 1,
   "metadata": {
    "tags": []
   },
   "outputs": [],
   "source": [
    "# Data Science Exercises Notebook"
   ]
  },
  {
   "cell_type": "code",
   "execution_count": 4,
   "metadata": {
    "tags": []
   },
   "outputs": [],
   "source": [
    "## Introduction\n",
    "##This notebook contains various exercises related to data science concepts, including languages, libraries, tools, and basic arithmetic operations."
   ]
  },
  {
   "cell_type": "code",
   "execution_count": 9,
   "metadata": {
    "tags": []
   },
   "outputs": [],
   "source": [
    "## Data Science Languages\n",
    "##Some of the popular languages used in Data Science are\n",
    "#Python\n",
    "#R\n",
    "#SQL\n",
    "#Julia\n",
    "#Scala\n"
   ]
  },
  {
   "cell_type": "code",
   "execution_count": 11,
   "metadata": {
    "tags": []
   },
   "outputs": [],
   "source": [
    "## Data Science Libraries\n",
    "#Some of the commonly used libraries in Data Science are:\n",
    "#Pandas\n",
    "#NumPy\n",
    "#Matplotlib\n",
    "#Scikit-learn\n",
    "#TensorFlow\n",
    "#Keras\n"
   ]
  },
  {
   "cell_type": "code",
   "execution_count": 13,
   "metadata": {
    "tags": []
   },
   "outputs": [],
   "source": [
    "## Data Science Tools\n",
    "#| Tool          | Description                                |\n",
    "#|---------------|--------------------------------------------|\n",
    "#| Jupyter       | Interactive computing environment         |\n",
    "#| RStudio       | Integrated development environment for R  |\n",
    "#| Apache Spark  | Cluster computing framework               |\n",
    "#| TensorFlow    | Machine learning library                  |\n",
    "#| RapidMiner    | Data science platform for analytics       |\n"
   ]
  },
  {
   "cell_type": "code",
   "execution_count": 15,
   "metadata": {
    "tags": []
   },
   "outputs": [],
   "source": [
    "## Arithmetic Expression Examples\n",
    "#In this section, we will demonstrate some basic arithmetic operations such as addition and multiplication.\n"
   ]
  },
  {
   "cell_type": "code",
   "execution_count": 16,
   "metadata": {
    "tags": []
   },
   "outputs": [],
   "source": [
    "# Multiplication and Addition Example\n",
    "#a = 5\n",
    "#b = 4\n",
    "#multiplication_result = a * b\n",
    "#addition_result = a + b\n",
    "\n",
    "#multiplication_result, addition_result\n"
   ]
  },
  {
   "cell_type": "code",
   "execution_count": 17,
   "metadata": {
    "tags": []
   },
   "outputs": [],
   "source": [
    "# Convert minutes to hours\n",
    "#minutes = 120\n",
    "#hours = minutes / 60\n",
    "#hours\n"
   ]
  },
  {
   "cell_type": "code",
   "execution_count": 18,
   "metadata": {
    "tags": []
   },
   "outputs": [],
   "source": [
    "## Objectives\n",
    "#Understand basic Markdown syntax\n",
    "#List popular Data Science languages and libraries\n",
    "#Create tables using Markdown\n",
    "#Demonstrate basic arithmetic operations using Python code\n",
    "#Convert time units using Python code\n"
   ]
  },
  {
   "cell_type": "code",
   "execution_count": 19,
   "metadata": {
    "tags": []
   },
   "outputs": [],
   "source": [
    "## Author\n",
    "#Rohit\n"
   ]
  },
  {
   "cell_type": "code",
   "execution_count": null,
   "metadata": {},
   "outputs": [],
   "source": []
  }
 ],
 "metadata": {
  "kernelspec": {
   "display_name": "Python",
   "language": "python",
   "name": "conda-env-python-py"
  },
  "language_info": {
   "codemirror_mode": {
    "name": "ipython",
    "version": 3
   },
   "file_extension": ".py",
   "mimetype": "text/x-python",
   "name": "python",
   "nbconvert_exporter": "python",
   "pygments_lexer": "ipython3",
   "version": "3.7.12"
  }
 },
 "nbformat": 4,
 "nbformat_minor": 4
}
